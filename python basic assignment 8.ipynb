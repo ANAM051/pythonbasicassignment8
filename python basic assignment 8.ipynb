{
 "cells": [
  {
   "cell_type": "code",
   "execution_count": null,
   "id": "104384a5",
   "metadata": {},
   "outputs": [],
   "source": [
    "1. Is the Python Standard Library included with PyInputPlus?\n",
    "ANS.No, the python standard library donot inlclude PyInputPlus."
   ]
  },
  {
   "cell_type": "code",
   "execution_count": null,
   "id": "36da59fb",
   "metadata": {},
   "outputs": [],
   "source": [
    "2. Why is PyInputPlus commonly imported with import pyinputplus as pypi?"
   ]
  },
  {
   "cell_type": "code",
   "execution_count": null,
   "id": "ef7e6334",
   "metadata": {},
   "outputs": [],
   "source": [
    "3. How do you distinguish between inputInt() and inputFloat()?\n",
    "ANS.  inputInt() accepts an integer value and returns an integer value ,also takes additional parameters like 'min''max',\n",
    "'less than','grea'ter than' while, inputFloat accept a float value and returns a float value also takes additional parameters \n",
    "like 'min''max',less than','greater than'.\n",
    "'\n",
    "\n",
    "      "
   ]
  },
  {
   "cell_type": "code",
   "execution_count": null,
   "id": "6ed03e0b",
   "metadata": {},
   "outputs": [],
   "source": [
    "4. Using PyInputPlus, how do you ensure that the user enters a whole number between 0 and 99?\n",
    "ANS. input(int) comes with a less than and greater than boundary so i can set a boundary of less than 100 ,and i will get a whole no\n",
    "    between 0-99."
   ]
  },
  {
   "cell_type": "code",
   "execution_count": null,
   "id": "ee4898f3",
   "metadata": {},
   "outputs": [],
   "source": [
    "5. What is transferred to the keyword arguments allowRegexes and blockRegexes?\n",
    "ANS. The string values which we want in our output we give that argument in allowregexes and the string values which we don't \n",
    "want in our output we give that output in blockregexes.\n",
    "     "
   ]
  },
  {
   "cell_type": "code",
   "execution_count": 2,
   "id": "84c4b08c",
   "metadata": {},
   "outputs": [
    {
     "name": "stdout",
     "output_type": "stream",
     "text": [
      "Object `do` not found.\n"
     ]
    }
   ],
   "source": [
    "6. If a blank input is entered three times, what does inputStr(limit=3) do?\n",
    "ANS. It will retrylimitexception exception"
   ]
  },
  {
   "cell_type": "code",
   "execution_count": null,
   "id": "0aee5199",
   "metadata": {},
   "outputs": [],
   "source": [
    "7. If blank input is entered three times, what does inputStr(limit=3, default=&#39;hello&#39;) do?\n",
    "ANS.It returns the value N/A (not applicable).                                                             "
   ]
  },
  {
   "cell_type": "code",
   "execution_count": null,
   "id": "6c1ffb47",
   "metadata": {},
   "outputs": [],
   "source": []
  },
  {
   "cell_type": "code",
   "execution_count": null,
   "id": "1c12f574",
   "metadata": {},
   "outputs": [],
   "source": []
  },
  {
   "cell_type": "code",
   "execution_count": null,
   "id": "564f13e4",
   "metadata": {},
   "outputs": [],
   "source": []
  }
 ],
 "metadata": {
  "kernelspec": {
   "display_name": "Python 3 (ipykernel)",
   "language": "python",
   "name": "python3"
  },
  "language_info": {
   "codemirror_mode": {
    "name": "ipython",
    "version": 3
   },
   "file_extension": ".py",
   "mimetype": "text/x-python",
   "name": "python",
   "nbconvert_exporter": "python",
   "pygments_lexer": "ipython3",
   "version": "3.9.12"
  }
 },
 "nbformat": 4,
 "nbformat_minor": 5
}
